{
  "nbformat": 4,
  "nbformat_minor": 0,
  "metadata": {
    "colab": {
      "provenance": []
    },
    "kernelspec": {
      "name": "python3",
      "display_name": "Python 3"
    },
    "language_info": {
      "name": "python"
    }
  },
  "cells": [
    {
      "cell_type": "code",
      "execution_count": 13,
      "metadata": {
        "colab": {
          "base_uri": "https://localhost:8080/"
        },
        "id": "Qwn9p2xe4npG",
        "outputId": "f2520c14-9d0f-4e21-8a8f-e1289280b170"
      },
      "outputs": [
        {
          "output_type": "stream",
          "name": "stdout",
          "text": [
            "Requirement already satisfied: pdfplumber in /usr/local/lib/python3.10/dist-packages (0.11.4)\n",
            "Requirement already satisfied: transformers in /usr/local/lib/python3.10/dist-packages (4.46.2)\n",
            "Requirement already satisfied: torch in /usr/local/lib/python3.10/dist-packages (2.5.1+cu121)\n",
            "Requirement already satisfied: pdfminer.six==20231228 in /usr/local/lib/python3.10/dist-packages (from pdfplumber) (20231228)\n",
            "Requirement already satisfied: Pillow>=9.1 in /usr/local/lib/python3.10/dist-packages (from pdfplumber) (11.0.0)\n",
            "Requirement already satisfied: pypdfium2>=4.18.0 in /usr/local/lib/python3.10/dist-packages (from pdfplumber) (4.30.0)\n",
            "Requirement already satisfied: charset-normalizer>=2.0.0 in /usr/local/lib/python3.10/dist-packages (from pdfminer.six==20231228->pdfplumber) (3.4.0)\n",
            "Requirement already satisfied: cryptography>=36.0.0 in /usr/local/lib/python3.10/dist-packages (from pdfminer.six==20231228->pdfplumber) (43.0.3)\n",
            "Requirement already satisfied: filelock in /usr/local/lib/python3.10/dist-packages (from transformers) (3.16.1)\n",
            "Requirement already satisfied: huggingface-hub<1.0,>=0.23.2 in /usr/local/lib/python3.10/dist-packages (from transformers) (0.26.2)\n",
            "Requirement already satisfied: numpy>=1.17 in /usr/local/lib/python3.10/dist-packages (from transformers) (1.26.4)\n",
            "Requirement already satisfied: packaging>=20.0 in /usr/local/lib/python3.10/dist-packages (from transformers) (24.2)\n",
            "Requirement already satisfied: pyyaml>=5.1 in /usr/local/lib/python3.10/dist-packages (from transformers) (6.0.2)\n",
            "Requirement already satisfied: regex!=2019.12.17 in /usr/local/lib/python3.10/dist-packages (from transformers) (2024.9.11)\n",
            "Requirement already satisfied: requests in /usr/local/lib/python3.10/dist-packages (from transformers) (2.32.3)\n",
            "Requirement already satisfied: safetensors>=0.4.1 in /usr/local/lib/python3.10/dist-packages (from transformers) (0.4.5)\n",
            "Requirement already satisfied: tokenizers<0.21,>=0.20 in /usr/local/lib/python3.10/dist-packages (from transformers) (0.20.3)\n",
            "Requirement already satisfied: tqdm>=4.27 in /usr/local/lib/python3.10/dist-packages (from transformers) (4.66.6)\n",
            "Requirement already satisfied: typing-extensions>=4.8.0 in /usr/local/lib/python3.10/dist-packages (from torch) (4.12.2)\n",
            "Requirement already satisfied: networkx in /usr/local/lib/python3.10/dist-packages (from torch) (3.4.2)\n",
            "Requirement already satisfied: jinja2 in /usr/local/lib/python3.10/dist-packages (from torch) (3.1.4)\n",
            "Requirement already satisfied: fsspec in /usr/local/lib/python3.10/dist-packages (from torch) (2024.10.0)\n",
            "Requirement already satisfied: sympy==1.13.1 in /usr/local/lib/python3.10/dist-packages (from torch) (1.13.1)\n",
            "Requirement already satisfied: mpmath<1.4,>=1.1.0 in /usr/local/lib/python3.10/dist-packages (from sympy==1.13.1->torch) (1.3.0)\n",
            "Requirement already satisfied: MarkupSafe>=2.0 in /usr/local/lib/python3.10/dist-packages (from jinja2->torch) (3.0.2)\n",
            "Requirement already satisfied: idna<4,>=2.5 in /usr/local/lib/python3.10/dist-packages (from requests->transformers) (3.10)\n",
            "Requirement already satisfied: urllib3<3,>=1.21.1 in /usr/local/lib/python3.10/dist-packages (from requests->transformers) (2.2.3)\n",
            "Requirement already satisfied: certifi>=2017.4.17 in /usr/local/lib/python3.10/dist-packages (from requests->transformers) (2024.8.30)\n",
            "Requirement already satisfied: cffi>=1.12 in /usr/local/lib/python3.10/dist-packages (from cryptography>=36.0.0->pdfminer.six==20231228->pdfplumber) (1.17.1)\n",
            "Requirement already satisfied: pycparser in /usr/local/lib/python3.10/dist-packages (from cffi>=1.12->cryptography>=36.0.0->pdfminer.six==20231228->pdfplumber) (2.22)\n"
          ]
        }
      ],
      "source": [
        "pip install pdfplumber transformers torch"
      ]
    },
    {
      "cell_type": "code",
      "source": [
        "import pdfplumber\n",
        "from transformers import BartTokenizer, BartForConditionalGeneration\n",
        "import torch"
      ],
      "metadata": {
        "id": "0sB_hXLJ4sy9"
      },
      "execution_count": 14,
      "outputs": []
    },
    {
      "cell_type": "code",
      "source": [
        "import pdfplumber\n",
        "\n",
        "with pdfplumber.open(r'/content/AdeepLearningapproachforSA_test.pdf') as pdf:\n",
        "    extracted_page = pdf.pages[1]\n",
        "    extracted_text = extracted_page.extract_text()\n",
        "    print(extracted_text)"
      ],
      "metadata": {
        "colab": {
          "base_uri": "https://localhost:8080/"
        },
        "id": "Gv_6XAkh40bt",
        "outputId": "9190cc5d-1b4d-4d0b-903f-f1c36d850839"
      },
      "execution_count": 15,
      "outputs": [
        {
          "output_type": "stream",
          "name": "stdout",
          "text": [
            "March-April 2020\n",
            "ISSN: 0193-4120 Page No. 20074 – 20078\n",
            "A Deep Learning Approach for Sentiment Analysis of\n",
            "Movie Reviews\n",
            "PV. Lakshmi1, N. Suresh Kumar2,Golagani .A.V.R.C.Rao3P N V Syamala Rao M 4\n",
            ",\n",
            "1,2Department of Computer Science and Engineering, GITAM Institute of Technology, Visakhapatnam\n",
            "3CSE Department, Lendi Institute of Engineering & Technology, vizianagaram\n",
            "4 Department of CSE, B V Raju Institute Of Technology, Hyderabad\n",
            "nskgitam2009@gmail.com\n",
            "Article Info Abstract:\n",
            "Volume 83\n",
            "In today‟s world sentiment analysis becomes a burning topic in several domains. It is very\n",
            "Page Number: 20074 – 20078\n",
            "important for the organization to know the feedback on their product. For instance, the movie\n",
            "Publication Issue:\n",
            "production team wants to know the user reviews about their movie that help the production\n",
            "March - April 2020 team to analyze their work and can plan for their future projects. Now-a-days it is very easy\n",
            "for movie reviewers and viewers to post their comments on any movie they watch on live\n",
            "blogs, movie sites, etc. This paper aims at analysis of movie reviews, which are collected\n",
            "online. The polarity of movie review is analyzed and predicted opinion automatically. The\n",
            "accuracy of review analysis improved with Deep-Learning Techniques. LSTM (Long short-\n",
            "term memory) recurrent neural network, CNN ( Convolutional Neural Network) models are\n",
            "Article History\n",
            "generated . The LSTM model generated an accuracy of 85.88% and the CNN model\n",
            "ArticleReceived: 24 July 2019\n",
            "generated an accuracy of 85.97% . Performance of Proposed model is better than Naïve\n",
            "Revised: 12 September 2019 Bayes and k-nearest neighbors model.\n",
            "Accepted: 15 February 2020\n",
            "Keywords:Machine Learning, Deeplearning , Naïve Bayes, k-nearest neighbors, LSTM,\n",
            "Publication: 30 April 2020\n",
            "CNN\n",
            "sentiment analysis. This one of the trending research\n",
            "I. INTRODUCTION\n",
            "spread throughout multiple domains to predict the\n",
            "In recent days sentiment analysis is one of the fashion how the information is expressed either\n",
            "demanded services in many domains which help in positive or negative. In sentiment analysis the user\n",
            "evaluating their services, product quality, and can express their views in different expression. The\n",
            "success rate in the market. The recent internet user can directly express their views by giving\n",
            "advancement in technology the process of sentiment myriad text expressions online. The direct\n",
            "analysis expedite in every domain. In the present expression may contain statements and speech of\n",
            "paper the sentiment analysis is applied on movie events. On the other side the user can express their\n",
            "reviews in order to analyze the movie ratings. In the views in emotions, sentiments, etc. In most of the\n",
            "present paper deep learning techniques are applied application simple text mining algorithms leads\n",
            "on movie review database to evaluate the user wrong results. Machine learning algorithms such as\n",
            "opinion. The recent advancement in internet has Artificial Neural Networks and Convolution Neural\n",
            "helped in collecting the user opinion quickly and Networks (CNCN) work better than the traditional\n",
            "makes the analysis process automatic. methods and able to produce accurate results in big\n",
            "Sentiment analysis of online reviews can be data analytics.In the present paper machine learning\n",
            "predicted by machine learning models [1-3]. algorithms and deep learning algorithms are\n",
            "Machine learning classifier like Naïve Bayes deployed to get the best fit polarity function in the\n",
            "classifier gave better result than KNN and SVM evaluation of online posted Movie Reviews.\n",
            "[1][2]. In recent days enormous research is going on\n",
            "20074\n",
            "Published by: The Mattingley Publishing Co., Inc.\n"
          ]
        }
      ]
    },
    {
      "cell_type": "code",
      "source": [
        "from transformers import BartTokenizer, BartForConditionalGeneration\n",
        "\n",
        "model = BartForConditionalGeneration.from_pretrained('sshleifer/distilbart-cnn-12-6')\n",
        "tokenizer = BartTokenizer.from_pretrained('sshleifer/distilbart-cnn-12-6')\n",
        "\n",
        "inputs = tokenizer([extracted_text], truncation=True, return_tensors='pt')\n",
        "\n",
        "summary_ids = model.generate(inputs['input_ids'], num_beams=4, early_stopping=True, min_length=0, max_length=1024)\n",
        "summarized_text = [tokenizer.decode(g, skip_special_tokens=True, clean_up_tokenization_spaces=True) for g in summary_ids]\n",
        "\n",
        "print(summarized_text[0])"
      ],
      "metadata": {
        "colab": {
          "base_uri": "https://localhost:8080/"
        },
        "id": "reWAmRof8tXa",
        "outputId": "1ce3f5fe-b513-4a43-d5a9-157c1b1b1e58"
      },
      "execution_count": 16,
      "outputs": [
        {
          "output_type": "stream",
          "name": "stdout",
          "text": [
            " This paper aims at analysis of movie reviews, which are collected online. The polarity of movie review is analyzed and predicted opinion automatically. The accuracy of review analysis improved with Deep-Learning Techniques.\n"
          ]
        }
      ]
    },
    {
      "cell_type": "code",
      "source": [
        "pip install rouge-score"
      ],
      "metadata": {
        "colab": {
          "base_uri": "https://localhost:8080/"
        },
        "id": "_aML4j_jJBqq",
        "outputId": "4e533284-6697-4c3d-e1c0-f8728a6e0098"
      },
      "execution_count": 17,
      "outputs": [
        {
          "output_type": "stream",
          "name": "stdout",
          "text": [
            "Requirement already satisfied: rouge-score in /usr/local/lib/python3.10/dist-packages (0.1.2)\n",
            "Requirement already satisfied: absl-py in /usr/local/lib/python3.10/dist-packages (from rouge-score) (1.4.0)\n",
            "Requirement already satisfied: nltk in /usr/local/lib/python3.10/dist-packages (from rouge-score) (3.9.1)\n",
            "Requirement already satisfied: numpy in /usr/local/lib/python3.10/dist-packages (from rouge-score) (1.26.4)\n",
            "Requirement already satisfied: six>=1.14.0 in /usr/local/lib/python3.10/dist-packages (from rouge-score) (1.16.0)\n",
            "Requirement already satisfied: click in /usr/local/lib/python3.10/dist-packages (from nltk->rouge-score) (8.1.7)\n",
            "Requirement already satisfied: joblib in /usr/local/lib/python3.10/dist-packages (from nltk->rouge-score) (1.4.2)\n",
            "Requirement already satisfied: regex>=2021.8.3 in /usr/local/lib/python3.10/dist-packages (from nltk->rouge-score) (2024.9.11)\n",
            "Requirement already satisfied: tqdm in /usr/local/lib/python3.10/dist-packages (from nltk->rouge-score) (4.66.6)\n"
          ]
        }
      ]
    },
    {
      "cell_type": "code",
      "source": [
        "from rouge_score import rouge_scorer\n",
        "\n",
        "scorer = rouge_scorer.RougeScorer(['rouge1', 'rouge2', 'rougeL'], use_stemmer=True)\n",
        "scores = scorer.score(extracted_text, summarized_text[0] )\n",
        "print(scores)"
      ],
      "metadata": {
        "colab": {
          "base_uri": "https://localhost:8080/"
        },
        "id": "HJdeSTT7JSmB",
        "outputId": "68a8a1c0-c94f-4c14-f879-ee81593f0e97"
      },
      "execution_count": 19,
      "outputs": [
        {
          "output_type": "stream",
          "name": "stdout",
          "text": [
            "{'rouge1': Score(precision=1.0, recall=0.05759162303664921, fmeasure=0.10891089108910892), 'rouge2': Score(precision=1.0, recall=0.055944055944055944, fmeasure=0.10596026490066224), 'rougeL': Score(precision=1.0, recall=0.05759162303664921, fmeasure=0.10891089108910892)}\n"
          ]
        }
      ]
    }
  ]
}